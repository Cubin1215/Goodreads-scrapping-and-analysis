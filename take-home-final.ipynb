{
 "cells": [
  {
   "cell_type": "markdown",
   "id": "3a60694c",
   "metadata": {},
   "source": [
    "# Data 200: Data Systems for Data Analytics\n"
   ]
  },
  {
   "cell_type": "markdown",
   "id": "f9048bf2",
   "metadata": {},
   "source": [
    "# Name:"
   ]
  },
  {
   "cell_type": "markdown",
   "id": "7d999038",
   "metadata": {},
   "source": [
    "# Take Home Final Exam\n",
    "<font color='red'>**Due Date:** Dec 20, 5p (T-F 1:30p section) </font> <br>\n",
    "<font color='red' style=\"margin-left: 1.85cm; display: inline-block;\">Dec 21, 11:59a (T-F 3p section)</font>\n",
    "\n",
    "---\n",
    "\n",
    "### **Task**: Scrape data from Goodreads.com 📚\n",
    "\n",
    "---\n",
    "\n",
    "### **Objective**\n",
    "For this exam, you will scrape and analyze data from Goodreads.com. The work is split into two parts, each focusing on different aspects of the data\n",
    "1. **\"Best Books\" Analysis**: Explore Goodreads' \"Best Books\" lists for a specific year.\n",
    "2. **Author-Level Analysis**: Study the trends and patterns in the works of a specific author.\n",
    "\n",
    "---\n",
    "\n",
    "### **Instructions**\n",
    "\n",
    "#### **Task 1: Best Books**\n",
    "You are tasked with analyzing Goodreads' \"Best Books\" lists for a specific year based on the **first letter of your first name**. For example, if your first name starts with **A–E**, you are assigned to the year **2023**; if it starts with **F–J**, you are assigned to **2022**, and so on:\n",
    "\n",
    "| Initials | Assigned Year | URL                                              |\n",
    "|----------|---------------|---------------------------------------------------------|\n",
    "| A–E      | 2023          | [Best Books of 2023](https://www.goodreads.com/list/best_of_year/2023) |\n",
    "| F–J      | 2022          | [Best Books of 2022](https://www.goodreads.com/list/best_of_year/2022) |\n",
    "| K–O      | 2021          | [Best Books of 2021](https://www.goodreads.com/list/best_of_year/2021) |\n",
    "| P–T      | 2020          | [Best Books of 2020](https://www.goodreads.com/list/best_of_year/2020) |\n",
    "| U–Z      | 2019          | [Best Books of 2019](https://www.goodreads.com/list/best_of_year/2019) |\n",
    "\n",
    "\n",
    "\n",
    "**Your Tasks**:\n",
    "1. Scrape data from the Goodreads \"Best Books of [Year]\" list:\n",
    "   - **URL**: https://www.goodreads.com/list/best_of_year/2023 (replace the year with your assigned year). You can also use the table above.\n",
    "2. Collect the following data for each book:\n",
    "   - Title\n",
    "   - Publication date (first published)\n",
    "   - Author\n",
    "   - Genre (if available, and feel free to pick the first genre listed)\n",
    "   - Average rating\n",
    "   - Number of ratings\n",
    "   - Number of pages\n",
    "   - Rank\n",
    "   - Language (if available)\n",
    "   - Number of people who are currently reading (if available)\n",
    "   - Number of people who want to read (if available)\n",
    "3. Perform the following analyses:\n",
    "   - **Genre ratings**:\n",
    "       - Compare average ratings across genres. Which 2-3 genres tends to have the highest ratings? Create a table showing average rating score, and average rank by genre.\n",
    "   - **Popularity and ratings**:\n",
    "       - Examine whether books with more ratings tend to have higher or lower average scores. Create a scatterplot showing the relationship between the number of ratings and average rating. On the x-axis, you should have **number of ratings**; on the y-axis, you should have **average rating**.\n",
    "\n",
    "---\n",
    "\n",
    "#### **Task 2: Author-Level Analysis**\n",
    "You are now tasked with analyzing books by a specific author based on the **first letter of your first name**:\n",
    "\n",
    "| Your first name initial | Author              | Author Goodreads link                               | Birthday       |\n",
    "|----------|---------------------|--------------------------------------------------------------------|----------------|\n",
    "| A–E      | Stephen King        | [Stephen King](https://www.goodreads.com/author/list/3389)         | Sep 21, 1947   |\n",
    "| F–J      | George R.R. Martin  | [George R.R. Martin](https://www.goodreads.com/author/list/346732) | Sep 20, 1948   |\n",
    "| K–O      | Ernest Hemingway    | [Ernest Hemingway](https://www.goodreads.com/author/list/1455)     | Jul 21, 1899   |\n",
    "| P–T      | Neil Gaiman         | [Neil Gaiman](https://www.goodreads.com/author/list/1221698)       | Nov 10, 1960   |\n",
    "| U–Z      | Nora Roberts        | [Nora Roberts](https://www.goodreads.com/author/list/625)          | Oct 10, 1950   |\n",
    "\n",
    "\n",
    "**Your Tasks**:\n",
    "1. Scrape all books by your assigned author:\n",
    "   - Use the link provided for your author.\n",
    "2. Collect the following data for each book:\n",
    "   - Title\n",
    "   - Publication date (first published)\n",
    "   - Author\n",
    "   - Genre (if available, and feel free to pick the first genre listed)\n",
    "   - Average rating\n",
    "   - Number of ratings\n",
    "   - Number of pages\n",
    "   - Rank (from the books written by the author)\n",
    "   - Language (if available)\n",
    "   - Number of people who are currently reading (if available)\n",
    "   - Number of people who want to read (if available)\n",
    "3. Perform the following analyses:\n",
    "   - **Language Distribution**:\n",
    "     - How many books has the author published in English? In other languages? Create a table showing the count of books by language.\n",
    "   - **Author's Age and Page Count**:\n",
    "     - Do authors tend to write longer books as they age? Use the author's birthday to calculate their age at the time of each book's publication. Create a line plot with **author's age** on the x-axis and **page count** on the y-axis.\n",
    "   - **Author's Age and Rating**:\n",
    "     - For English-only books, create a line plot with **author's age** on the x-axis and **average rating** on the y-axis.\n",
    "     - Repeat the analysis including books in languages other than English. Does your interpretation change?\n",
    "   - **Pages vs. Ratings**:\n",
    "     - Is there a relationship between the number of pages and a book's average rating? Create a scatterplot with **page count** on the x-axis and **average rating** on the y-axis.\n",
    "   - **Interest on a book**:\n",
    "     - Is there a relationship between the number of people who are currently reading the book and the number of people who left a rating? Create a scatterplot with **number of people who are currently reading** on the x-axis and **number of ratings** on the y-axis. Create a second scatterplot with **average rating** on the y-axis. Do books with more interest tend to receive higher ratings?\n",
    "\n",
    "---\n",
    "\n",
    "### **Submission Requirements**\n",
    "Submit your work as a single `.ipynb` file, along with a copy of it as a `.md` file. The notebook should include:\n",
    "1. **Code**:\n",
    "   - Well-documented python code using Selenium for web scraping.\n",
    "   - Proper error handling and strategies for dynamic content.\n",
    "2. **Cleaned Data**:\n",
    "   - Include the cleaned datasets from both tasks as .csv files. You can upload them in your github repo.\n",
    "3. **Analysis and Report**:\n",
    "   - Present your findings using markdown cells, tables, and visualizations you make in python.\n",
    "   - Address all questions posed for your assigned tasks.\n",
    "4. **Visualizations**:\n",
    "   - Include relevant charts (e.g., bar charts, line plots, scatterplots) to support your conclusions.\n",
    "\n",
    "---\n",
    "\n",
    "### **Rubric**\n",
    "\n",
    "| Item                        | Weight |\n",
    "|-----------------------------|--------|\n",
    "| Code accuracy               | 25%    |\n",
    "| Code clarity and annotation | 25%    |\n",
    "| Exploratory data analysis   | 25%    |\n",
    "| Discussion of findings      | 25%    |\n",
    "\n",
    "---\n",
    "\n",
    "### **Tips**\n",
    "- Make sure to insert time.sleep() right after you request driver to go to a link (before requesting elements). Make sure to wait at least 0.7 second, or even slightly higher if you run into issues.\n",
    "- Try-except blocks will be your friend because xpath positions on a page may differ depending on the book and content availability.\n",
    "\n",
    "---\n",
    "\n",
    "### **Resources**\n",
    "- Course notes on Github\n",
    "- Selenium documentation: https://www.selenium.dev/documentation/\n",
    "- Pandas documentation: https://pandas.pydata.org/docs/\n",
    "- Matplotlib documentation: https://matplotlib.org/stable/contents.html\n",
    "\n",
    "Good luck! 🏁\n"
   ]
  },
  {
   "cell_type": "markdown",
   "id": "ece2afc4-bd8e-4ba7-8525-08c21727edc6",
   "metadata": {},
   "source": [
    "## Pranav Azad\n",
    "## Analysis of the year 2020"
   ]
  },
  {
   "cell_type": "markdown",
   "id": "34879a7d-a4c4-47a1-9b46-321dcb6f5145",
   "metadata": {},
   "source": [
    "### Task1"
   ]
  },
  {
   "cell_type": "code",
   "execution_count": 1,
   "id": "fa032db1-6205-4202-831a-0105b4f64df8",
   "metadata": {},
   "outputs": [],
   "source": [
    "from selenium import webdriver\n",
    "import pandas as pd\n",
    "import numpy as np\n",
    "import time\n",
    "import random"
   ]
  },
  {
   "cell_type": "code",
   "execution_count": 2,
   "id": "0961eeef-d362-4471-aa52-070dde88f644",
   "metadata": {},
   "outputs": [],
   "source": [
    "driver = webdriver.Chrome()"
   ]
  },
  {
   "cell_type": "code",
   "execution_count": 4,
   "id": "152bb6e6-676a-4ac7-9db6-df5683aabd91",
   "metadata": {},
   "outputs": [],
   "source": [
    "driver.get('https://www.goodreads.com/list/best_of_year/2020')"
   ]
  },
  {
   "cell_type": "code",
   "execution_count": 23,
   "id": "5db947cf-d34f-4f1e-ae66-6092fcedc788",
   "metadata": {},
   "outputs": [
    {
     "data": {
      "text/plain": [
       "'bookTitle'"
      ]
     },
     "execution_count": 23,
     "metadata": {},
     "output_type": "execute_result"
    }
   ],
   "source": [
    "driver.find_element('xpath', '//*[@id=\"all_votes\"]/table/tbody/tr[1]/td[3]/a/span').text\n",
    "driver.find_element('xpath', '//*[@id=\"all_votes\"]/table/tbody/tr[2]/td[3]/a').get_attribute('class')\n",
    "//*[@id=\"all_votes\"]/table/tbody/tr[3]/td[1]"
   ]
  },
  {
   "cell_type": "code",
   "execution_count": 24,
   "id": "169d681c-2754-46d7-810f-bb28dfea5cea",
   "metadata": {},
   "outputs": [
    {
     "data": {
      "text/plain": [
       "['All Votes',\n",
       " '1\\nThe House in the Cerulean Sea (Cerulean Chronicles, #1)\\nby T.J. Klune (Goodreads Author)\\n4.39 avg rating — 745,041 ratings\\nVote For This Book\\n\\n\\n   score: 21,716, and 220 people voted\\nWant to Read\\nRate this book\\n1 of 5 stars\\n2 of 5 stars\\n3 of 5 stars\\n4 of 5 stars\\n5 of 5 stars\\n2\\nHouse of Earth and Blood (Crescent City, #1)\\nby Sarah J. Maas (Goodreads Author)\\n4.47 avg rating — 854,369 ratings\\nVote For This Book\\n\\n\\n   score: 19,778, and 200 people voted\\nWant to Read\\nRate this book\\n1 of 5 stars\\n2 of 5 stars\\n3 of 5 stars\\n4 of 5 stars\\n5 of 5 stars\\n3\\nThe Invisible Life of Addie LaRue\\nby Victoria E. Schwab (Goodreads Author)\\n4.18 avg rating — 1,224,097 ratings\\nVote For This Book\\n\\n\\n   score: 17,270, and 177 people voted\\nWant to Read\\nRate this book\\n1 of 5 stars\\n2 of 5 stars\\n3 of 5 stars\\n4 of 5 stars\\n5 of 5 stars\\n4\\nAmerican Dirt\\nby Jeanine Cummins (Goodreads Author)\\n4.37 avg rating — 616,132 ratings\\nVote For This Book\\n\\n\\n   score: 16,207, and 164 people voted\\nWant to Read\\nRate this book\\n1 of 5 stars\\n2 of 5 stars\\n3 of 5 stars\\n4 of 5 stars\\n5 of 5 stars\\n5\\nThe Midnight Library\\nby Matt Haig (Goodreads Author)\\n3.99 avg rating — 2,022,197 ratings\\nVote For This Book\\n\\n\\n   score: 16,182, and 167 people voted\\nWant to Read\\nRate this book\\n1 of 5 stars\\n2 of 5 stars\\n3 of 5 stars\\n4 of 5 stars\\n5 of 5 stars\\n6\\nThe Vanishing Half\\nby Brit Bennett (Goodreads Author)\\n4.14 avg rating — 793,507 ratings\\nVote For This Book\\n\\n\\n   score: 15,429, and 157 people voted\\nWant to Read\\nRate this book\\n1 of 5 stars\\n2 of 5 stars\\n3 of 5 stars\\n4 of 5 stars\\n5 of 5 stars\\n7\\nBeach Read\\nby Emily Henry (Goodreads Author)\\n3.99 avg rating — 1,339,746 ratings\\nVote For This Book\\n\\n\\n   score: 14,185, and 146 people voted\\nWant to Read\\nRate this book\\n1 of 5 stars\\n2 of 5 stars\\n3 of 5 stars\\n4 of 5 stars\\n5 of 5 stars\\n8\\nMy Dark Vanessa\\nby Kate Elizabeth Russell (Goodreads Author)\\n4.10 avg rating — 367,336 ratings\\nVote For This Book\\n\\n\\n   score: 11,512, and 117 people voted\\nWant to Read\\nRate this book\\n1 of 5 stars\\n2 of 5 stars\\n3 of 5 stars\\n4 of 5 stars\\n5 of 5 stars\\n9\\nThe Ballad of Songbirds and Snakes (The Hunger Games, #0)\\nby Suzanne Collins\\n3.97 avg rating — 875,375 ratings\\nVote For This Book\\n\\n\\n   score: 8,590, and 90 people voted\\nWant to Read\\nRate this book\\n1 of 5 stars\\n2 of 5 stars\\n3 of 5 stars\\n4 of 5 stars\\n5 of 5 stars\\n10\\nMexican Gothic\\nby Silvia Moreno-Garcia (Goodreads Author)\\n3.66 avg rating — 621,489 ratings\\nVote For This Book\\n\\n\\n   score: 8,224, and 85 people voted\\nWant to Read\\nRate this book\\n1 of 5 stars\\n2 of 5 stars\\n3 of 5 stars\\n4 of 5 stars\\n5 of 5 stars\\n11\\nChain of Gold (The Last Hours, #1)\\nby Cassandra Clare (Goodreads Author)\\n4.38 avg rating — 111,816 ratings\\nVote For This Book\\n\\n\\n   score: 8,217, and 83 people voted\\nWant to Read\\nRate this book\\n1 of 5 stars\\n2 of 5 stars\\n3 of 5 stars\\n4 of 5 stars\\n5 of 5 stars\\n12\\nDear Edward\\nby Ann Napolitano (Goodreads Author)\\n4.08 avg rating — 196,435 ratings\\nVote For This Book\\n\\n\\n   score: 7,065, and 72 people voted\\nWant to Read\\nRate this book\\n1 of 5 stars\\n2 of 5 stars\\n3 of 5 stars\\n4 of 5 stars\\n5 of 5 stars\\n13\\nThe Guest List\\nby Lucy Foley (Goodreads Author)\\n3.81 avg rating — 1,114,985 ratings\\nVote For This Book\\n\\n\\n   score: 6,948, and 73 people voted\\nWant to Read\\nRate this book\\n1 of 5 stars\\n2 of 5 stars\\n3 of 5 stars\\n4 of 5 stars\\n5 of 5 stars\\n14\\nPiranesi\\nby Susanna Clarke\\n4.22 avg rating — 336,609 ratings\\nVote For This Book\\n\\n\\n   score: 6,610, and 69 people voted\\nWant to Read\\nRate this book\\n1 of 5 stars\\n2 of 5 stars\\n3 of 5 stars\\n4 of 5 stars\\n5 of 5 stars\\n15\\nReign (The Sainthood - Boys of Lowell High, #3)\\nby Siobhan Davis ™ (Goodreads Author)\\n4.27 avg rating — 12,505 ratings\\nVote For This Book\\n\\n\\n   score: 5,207, and 53 people voted\\nWant to Read\\nRate this book\\n1 of 5 stars\\n2 of 5 stars\\n3 of 5 stars\\n4 of 5 stars\\n5 of 5 stars\\n16\\nThe Southern Book Club\\'s Guide to Slaying Vampires\\nby Grady Hendrix (Goodreads Author)\\n3.80 avg rating — 252,994 ratings\\nVote For This Book\\n\\n\\n   score: 5,120, and 54 people voted\\nWant to Read\\nRate this book\\n1 of 5 stars\\n2 of 5 stars\\n3 of 5 stars\\n4 of 5 stars\\n5 of 5 stars\\n17\\nThe Sun Down Motel\\nby Simone St. James (Goodreads Author)\\n4.01 avg rating — 166,761 ratings\\nVote For This Book\\n\\n\\n   score: 4,952, and 51 people voted\\nWant to Read\\nRate this book\\n1 of 5 stars\\n2 of 5 stars\\n3 of 5 stars\\n4 of 5 stars\\n5 of 5 stars\\n18\\nUntamed\\nby Glennon Doyle (Goodreads Author)\\n3.99 avg rating — 470,635 ratings\\nVote For This Book\\n\\n\\n   score: 4,876, and 51 people voted\\nWant to Read\\nRate this book\\n1 of 5 stars\\n2 of 5 stars\\n3 of 5 stars\\n4 of 5 stars\\n5 of 5 stars\\n19\\nRebellion (The Sainthood - Boys of Lowell High, #2)\\nby Siobhan Davis ™ (Goodreads Author)\\n4.29 avg rating — 15,118 ratings\\nVote For This Book\\n\\n\\n   score: 4,778, and 49 people voted\\nWant to Read\\nRate this book\\n1 of 5 stars\\n2 of 5 stars\\n3 of 5 stars\\n4 of 5 stars\\n5 of 5 stars\\n20\\nBell Hammers\\nby Lancelot Schaubert (Goodreads Author)\\n4.16 avg rating — 692 ratings\\nVote For This Book\\n\\n\\n   score: 4,687, and 47 people voted\\nWant to Read\\nRate this book\\n1 of 5 stars\\n2 of 5 stars\\n3 of 5 stars\\n4 of 5 stars\\n5 of 5 stars\\n21\\nThe Girl with the Louding Voice\\nby Abi Daré\\n4.43 avg rating — 159,009 ratings\\nVote For This Book\\n\\n\\n   score: 4,406, and 46 people voted\\nWant to Read\\nRate this book\\n1 of 5 stars\\n2 of 5 stars\\n3 of 5 stars\\n4 of 5 stars\\n5 of 5 stars\\n22\\nResurrection (The Sainthood - Boys of Lowell High, #1)\\nby Siobhan Davis ™ (Goodreads Author)\\n4.20 avg rating — 18,655 ratings\\nVote For This Book\\n\\n\\n   score: 4,268, and 44 people voted\\nWant to Read\\nRate this book\\n1 of 5 stars\\n2 of 5 stars\\n3 of 5 stars\\n4 of 5 stars\\n5 of 5 stars\\n23\\nThe Shadows Between Us (The Shadows Between Us, #1)\\nby Tricia Levenseller (Goodreads Author)\\n3.83 avg rating — 192,948 ratings\\nVote For This Book\\n\\n\\n   score: 3,970, and 41 people voted\\nWant to Read\\nRate this book\\n1 of 5 stars\\n2 of 5 stars\\n3 of 5 stars\\n4 of 5 stars\\n5 of 5 stars\\n24\\nLong Bright River\\nby Liz Moore (Goodreads Author)\\n4.04 avg rating — 122,884 ratings\\nVote For This Book\\n\\n\\n   score: 3,943, and 41 people voted\\nWant to Read\\nRate this book\\n1 of 5 stars\\n2 of 5 stars\\n3 of 5 stars\\n4 of 5 stars\\n5 of 5 stars\\n25\\nIn Five Years\\nby Rebecca Serle (Goodreads Author)\\n3.78 avg rating — 543,479 ratings\\nVote For This Book\\n\\n\\n   score: 3,940, and 42 people voted\\nWant to Read\\nRate this book\\n1 of 5 stars\\n2 of 5 stars\\n3 of 5 stars\\n4 of 5 stars\\n5 of 5 stars\\n26\\nCaste: The Origins of Our Discontents\\nby Isabel Wilkerson (Goodreads Author)\\n4.53 avg rating — 147,650 ratings\\nVote For This Book\\n\\n\\n   score: 3,813, and 40 people voted\\nWant to Read\\nRate this book\\n1 of 5 stars\\n2 of 5 stars\\n3 of 5 stars\\n4 of 5 stars\\n5 of 5 stars\\n27\\nNetwork Effect (The Murderbot Diaries, #5)\\nby Martha Wells (Goodreads Author)\\n4.47 avg rating — 97,566 ratings\\nVote For This Book\\n\\n\\n   score: 3,800, and 40 people voted\\nWant to Read\\nRate this book\\n1 of 5 stars\\n2 of 5 stars\\n3 of 5 stars\\n4 of 5 stars\\n5 of 5 stars\\n28\\nBoot: A Sorta Novel of Vietnam\\nby Charles L. Templeton (Goodreads Author)\\n4.56 avg rating — 196 ratings\\nVote For This Book\\n\\n\\n   score: 3,798, and 38 people voted\\nWant to Read\\nRate this book\\n1 of 5 stars\\n2 of 5 stars\\n3 of 5 stars\\n4 of 5 stars\\n5 of 5 stars\\n29\\nTweet Cute\\nby Emma Lord (Goodreads Author)\\n3.89 avg rating — 76,995 ratings\\nVote For This Book\\n\\n\\n   score: 3,787, and 39 people voted\\nWant to Read\\nRate this book\\n1 of 5 stars\\n2 of 5 stars\\n3 of 5 stars\\n4 of 5 stars\\n5 of 5 stars\\n30\\nHamnet\\nby Maggie O\\'Farrell (Goodreads Author)\\n4.20 avg rating — 284,134 ratings\\nVote For This Book\\n\\n\\n   score: 3,743, and 40 people voted\\nWant to Read\\nRate this book\\n1 of 5 stars\\n2 of 5 stars\\n3 of 5 stars\\n4 of 5 stars\\n5 of 5 stars\\n31\\nThe Glass Hotel\\nby Emily St. John Mandel (Goodreads Author)\\n3.69 avg rating — 182,179 ratings\\nVote For This Book\\n\\n\\n   score: 3,723, and 39 people voted\\nWant to Read\\nRate this book\\n1 of 5 stars\\n2 of 5 stars\\n3 of 5 stars\\n4 of 5 stars\\n5 of 5 stars\\n32\\nOona Out of Order\\nby Margarita Montimore (Goodreads Author)\\n3.86 avg rating — 88,248 ratings\\nVote For This Book\\n\\n\\n   score: 3,515, and 36 people voted\\nWant to Read\\nRate this book\\n1 of 5 stars\\n2 of 5 stars\\n3 of 5 stars\\n4 of 5 stars\\n5 of 5 stars\\n33\\nMidnight Sun (The Twilight Saga, #5)\\nby Stephenie Meyer\\n3.73 avg rating — 274,948 ratings\\nVote For This Book\\n\\n\\n   score: 3,439, and 36 people voted\\nWant to Read\\nRate this book\\n1 of 5 stars\\n2 of 5 stars\\n3 of 5 stars\\n4 of 5 stars\\n5 of 5 stars\\n34\\nHome Before Dark\\nby Riley Sager (Goodreads Author)\\n4.06 avg rating — 238,522 ratings\\nVote For This Book\\n\\n\\n   score: 3,284, and 35 people voted\\nWant to Read\\nRate this book\\n1 of 5 stars\\n2 of 5 stars\\n3 of 5 stars\\n4 of 5 stars\\n5 of 5 stars\\n35\\nThe Splendid and the Vile: A Saga of Churchill, Family, and Defiance During the Blitz\\nby Erik Larson (Goodreads Author)\\n4.30 avg rating — 124,449 ratings\\nVote For This Book\\n\\n\\n   score: 3,199, and 33 people voted\\nWant to Read\\nRate this book\\n1 of 5 stars\\n2 of 5 stars\\n3 of 5 stars\\n4 of 5 stars\\n5 of 5 stars\\n36\\nA Deadly Education (The Scholomance, #1)\\nby Naomi Novik (Goodreads Author)\\n3.96 avg rating — 190,485 ratings\\nVote For This Book\\n\\n\\n   score: 3,006, and 32 people voted\\nWant to Read\\nRate this book\\n1 of 5 stars\\n2 of 5 stars\\n3 of 5 stars\\n4 of 5 stars\\n5 of 5 stars\\n37\\nA Fairy Awesome Story (A Fairy Awesome Story, #1)\\nby Ellie Aiden (Goodreads Author)\\n3.91 avg rating — 634 ratings\\nVote For This Book\\n\\n\\n   score: 2,935, and 30 people voted\\nWant to Read\\nRate this book\\n1 of 5 stars\\n2 of 5 stars\\n3 of 5 stars\\n4 of 5 stars\\n5 of 5 stars\\n38\\nThe City We Became (Great Cities, #1)\\nby N.K. Jemisin (Goodreads Author)\\n3.86 avg rating — 73,885 ratings\\nVote For This Book\\n\\n\\n   score: 2,890, and 31 people voted\\nWant to Read\\nRate this book\\n1 of 5 stars\\n2 of 5 stars\\n3 of 5 stars\\n4 of 5 stars\\n5 of 5 stars\\n39\\nBoyfriend Material (London Calling, #1)\\nby Alexis Hall (Goodreads Author)\\nreally liked it\\n4.00 avg rating — 140,635 ratings\\nVote For This Book\\n\\n\\n   score: 2,867, and 30 people voted\\nWant to Read\\nRate this book\\n1 of 5 stars\\n2 of 5 stars\\n3 of 5 stars\\n4 of 5 stars\\n5 of 5 stars\\n40\\nSmoke Bitten (Mercy Thompson, #12)\\nby Patricia Briggs\\n4.43 avg rating — 33,668 ratings\\nVote For This Book\\n\\n\\n   score: 2,858, and 30 people voted\\nWant to Read\\nRate this book\\n1 of 5 stars\\n2 of 5 stars\\n3 of 5 stars\\n4 of 5 stars\\n5 of 5 stars\\n41\\nThe Book of Longings\\nby Sue Monk Kidd (Goodreads Author)\\n4.23 avg rating — 130,845 ratings\\nVote For This Book\\n\\n\\n   score: 2,809, and 29 people voted\\nWant to Read\\nRate this book\\n1 of 5 stars\\n2 of 5 stars\\n3 of 5 stars\\n4 of 5 stars\\n5 of 5 stars\\n42\\nTranscendent Kingdom\\nby Yaa Gyasi (Goodreads Author)\\n4.11 avg rating — 153,630 ratings\\nVote For This Book\\n\\n\\n   score: 2,752, and 29 people voted\\nWant to Read\\nRate this book\\n1 of 5 stars\\n2 of 5 stars\\n3 of 5 stars\\n4 of 5 stars\\n5 of 5 stars\\n43\\nCemetery Boys (Cemetery Boys, #1)\\nby Aiden Thomas (Goodreads Author)\\n4.26 avg rating — 99,456 ratings\\nVote For This Book\\n\\n\\n   score: 2,629, and 28 people voted\\nWant to Read\\nRate this book\\n1 of 5 stars\\n2 of 5 stars\\n3 of 5 stars\\n4 of 5 stars\\n5 of 5 stars\\n44\\nSweep with Me (Innkeeper Chronicles, #4.5)\\nby Ilona Andrews (Goodreads Author)\\n4.39 avg rating — 19,271 ratings\\nVote For This Book\\n\\n\\n   score: 2,589, and 27 people voted\\nWant to Read\\nRate this book\\n1 of 5 stars\\n2 of 5 stars\\n3 of 5 stars\\n4 of 5 stars\\n5 of 5 stars\\n45\\nHidden Valley Road: Inside the Mind of an American Family\\nby Robert Kolker (Goodreads Author)\\n4.16 avg rating — 132,468 ratings\\nVote For This Book\\n\\n\\n   score: 2,587, and 28 people voted\\nWant to Read\\nRate this book\\n1 of 5 stars\\n2 of 5 stars\\n3 of 5 stars\\n4 of 5 stars\\n5 of 5 stars\\n46\\nA Promised Land\\nby Barack Obama (Goodreads Author)\\n4.33 avg rating — 245,443 ratings\\nVote For This Book\\n\\n\\n   score: 2,511, and 27 people voted\\nWant to Read\\nRate this book\\n1 of 5 stars\\n2 of 5 stars\\n3 of 5 stars\\n4 of 5 stars\\n5 of 5 stars\\n47\\nOne of Us Is Next (One of Us Is Lying, #2)\\nby Karen M. McManus (Goodreads Author)\\n3.91 avg rating — 252,163 ratings\\nVote For This Book\\n\\n\\n   score: 2,455, and 26 people voted\\nWant to Read\\nRate this book\\n1 of 5 stars\\n2 of 5 stars\\n3 of 5 stars\\n4 of 5 stars\\n5 of 5 stars\\n48\\nThe Jane Austen Society\\nby Natalie Jenner (Goodreads Author)\\n3.73 avg rating — 49,101 ratings\\nVote For This Book\\n\\n\\n   score: 2,402, and 25 people voted\\nWant to Read\\nRate this book\\n1 of 5 stars\\n2 of 5 stars\\n3 of 5 stars\\n4 of 5 stars\\n5 of 5 stars\\n49\\nThe Empire of Gold (The Daevabad Trilogy, #3)\\nby S.A. Chakraborty (Goodreads Author)\\n4.50 avg rating — 63,214 ratings\\nVote For This Book\\n\\n\\n   score: 2,366, and 25 people voted\\nWant to Read\\nRate this book\\n1 of 5 stars\\n2 of 5 stars\\n3 of 5 stars\\n4 of 5 stars\\n5 of 5 stars\\n50\\nCome Tumbling Down (Wayward Children, #5)\\nby Seanan McGuire (Goodreads Author)\\n3.91 avg rating — 27,549 ratings\\nVote For This Book\\n\\n\\n   score: 2,335, and 25 people voted\\nWant to Read\\nRate this book\\n1 of 5 stars\\n2 of 5 stars\\n3 of 5 stars\\n4 of 5 stars\\n5 of 5 stars\\n51\\nThe Only Good Indians\\nby Stephen Graham Jones (Goodreads Author)\\n3.69 avg rating — 92,251 ratings\\nVote For This Book\\n\\n\\n   score: 2,325, and 25 people voted\\nWant to Read\\nRate this book\\n1 of 5 stars\\n2 of 5 stars\\n3 of 5 stars\\n4 of 5 stars\\n5 of 5 stars\\n52\\nA Heart So Fierce and Broken (Cursebreakers, #2)\\nby Brigid Kemmerer (Goodreads Author)\\n3.89 avg rating — 70,564 ratings\\nVote For This Book\\n\\n\\n   score: 2,316, and 25 people voted\\nWant to Read\\nRate this book\\n1 of 5 stars\\n2 of 5 stars\\n3 of 5 stars\\n4 of 5 stars\\n5 of 5 stars\\n52\\nThe Switch\\nby Beth O\\'Leary (Goodreads Author)\\n3.95 avg rating — 136,455 ratings\\nVote For This Book\\n\\n\\n   score: 2,316, and 25 people voted\\nWant to Read\\nRate this book\\n1 of 5 stars\\n2 of 5 stars\\n3 of 5 stars\\n4 of 5 stars\\n5 of 5 stars\\n54\\nBlack Sun (Between Earth and Sky, #1)\\nby Rebecca Roanhorse (Goodreads Author)\\n4.19 avg rating — 48,565 ratings\\nVote For This Book\\n\\n\\n   score: 2,299, and 25 people voted\\nWant to Read\\nRate this book\\n1 of 5 stars\\n2 of 5 stars\\n3 of 5 stars\\n4 of 5 stars\\n5 of 5 stars\\n55\\nHeart Bones\\nby Colleen Hoover (Goodreads Author)\\n4.22 avg rating — 592,193 ratings\\nVote For This Book\\n\\n\\n   score: 2,261, and 24 people voted\\nWant to Read\\nRate this book\\n1 of 5 stars\\n2 of 5 stars\\n3 of 5 stars\\n4 of 5 stars\\n5 of 5 stars\\n56\\nDeacon King Kong\\nby James McBride (Goodreads Author)\\n4.17 avg rating — 73,751 ratings\\nVote For This Book\\n\\n\\n   score: 2,211, and 23 people voted\\nWant to Read\\nRate this book\\n1 of 5 stars\\n2 of 5 stars\\n3 of 5 stars\\n4 of 5 stars\\n5 of 5 stars\\n57\\nCredence\\nby Penelope Douglas (Goodreads Author)\\n3.68 avg rating — 431,791 ratings\\nVote For This Book\\n\\n\\n   score: 2,210, and 23 people voted\\nWant to Read\\nRate this book\\n1 of 5 stars\\n2 of 5 stars\\n3 of 5 stars\\n4 of 5 stars\\n5 of 5 stars\\n58\\nTroubled Blood (Cormoran Strike, #5)\\nby Robert Galbraith\\n4.38 avg rating — 134,715 ratings\\nVote For This Book\\n\\n\\n   score: 2,186, and 24 people voted\\nWant to Read\\nRate this book\\n1 of 5 stars\\n2 of 5 stars\\n3 of 5 stars\\n4 of 5 stars\\n5 of 5 stars\\n59\\nBefore and After (Before and After, #1)\\nby Andrew Shanahan (Goodreads Author)\\n4.01 avg rating — 5,054 ratings\\nVote For This Book\\n\\n\\n   score: 2,172, and 22 people voted\\nWant to Read\\nRate this book\\n1 of 5 stars\\n2 of 5 stars\\n3 of 5 stars\\n4 of 5 stars\\n5 of 5 stars\\n60\\nFrom Blood and Ash (Blood and Ash, #1)\\nby Jennifer L. Armentrout (Goodreads Author)\\n4.22 avg rating — 678,441 ratings\\nVote For This Book\\n\\n\\n   score: 2,108, and 22 people voted\\nWant to Read\\nRate this book\\n1 of 5 stars\\n2 of 5 stars\\n3 of 5 stars\\n4 of 5 stars\\n5 of 5 stars\\n61\\nPlaying with Fire\\nby L.J. Shen (Goodreads Author)\\n4.17 avg rating — 43,826 ratings\\nVote For This Book\\n\\n\\n   score: 1,989, and 21 people voted\\nWant to Read\\nRate this book\\n1 of 5 stars\\n2 of 5 stars\\n3 of 5 stars\\n4 of 5 stars\\n5 of 5 stars\\n62\\nIf It Bleeds\\nby Stephen King (Goodreads Author)\\n3.98 avg rating — 108,080 ratings\\nVote For This Book\\n\\n\\n   score: 1,966, and 21 people voted\\nWant to Read\\nRate this book\\n1 of 5 stars\\n2 of 5 stars\\n3 of 5 stars\\n4 of 5 stars\\n5 of 5 stars\\n63\\nThe Evening and the Morning (Kingsbridge, #0)\\nby Ken Follett (Goodreads Author)\\n4.39 avg rating — 119,508 ratings\\nVote For This Book\\n\\n\\n   score: 1,948, and 20 people voted\\nWant to Read\\nRate this book\\n1 of 5 stars\\n2 of 5 stars\\n3 of 5 stars\\n4 of 5 stars\\n5 of 5 stars\\n64\\nRodham\\nby Curtis Sittenfeld (Goodreads Author)\\n3.83 avg rating — 46,738 ratings\\nVote For This Book\\n\\n\\n   score: 1,938, and 20 people voted\\nWant to Read\\nRate this book\\n1 of 5 stars\\n2 of 5 stars\\n3 of 5 stars\\n4 of 5 stars\\n5 of 5 stars\\n65\\nMigrations\\nby Charlotte McConaghy (Goodreads Author)\\n4.13 avg rating — 81,367 ratings\\nVote For This Book\\n\\n\\n   score: 1,923, and 20 people voted\\nWant to Read\\nRate this book\\n1 of 5 stars\\n2 of 5 stars\\n3 of 5 stars\\n4 of 5 stars\\n5 of 5 stars\\n66\\nThe Night Watchman\\nby Louise Erdrich\\n4.10 avg rating — 81,463 ratings\\nVote For This Book\\n\\n\\n   score: 1,905, and 20 people voted\\nWant to Read\\nRate this book\\n1 of 5 stars\\n2 of 5 stars\\n3 of 5 stars\\n4 of 5 stars\\n5 of 5 stars\\n67\\nThe Henna Artist (The Jaipur Trilogy, #1)\\nby Alka Joshi (Goodreads Author)\\n4.18 avg rating — 192,064 ratings\\nVote For This Book\\n\\n\\n   score: 1,876, and 20 people voted\\nWant to Read\\nRate this book\\n1 of 5 stars\\n2 of 5 stars\\n3 of 5 stars\\n4 of 5 stars\\n5 of 5 stars\\n68\\nThe Kingdom of Back\\nby Marie Lu (Goodreads Author)\\n3.71 avg rating — 22,584 ratings\\nVote For This Book\\n\\n\\n   score: 1,843, and 19 people voted\\nWant to Read\\nRate this book\\n1 of 5 stars\\n2 of 5 stars\\n3 of 5 stars\\n4 of 5 stars\\n5 of 5 stars\\n69\\nThe Thursday Murder Club (Thursday Murder Club, #1)\\nby Richard Osman\\n3.88 avg rating — 576,646 ratings\\nVote For This Book\\n\\n\\n   score: 1,794, and 20 people voted\\nWant to Read\\nRate this book\\n1 of 5 stars\\n2 of 5 stars\\n3 of 5 stars\\n4 of 5 stars\\n5 of 5 stars\\n70\\nEight Perfect Murders\\nby Peter Swanson (Goodreads Author)\\n3.63 avg rating — 84,649 ratings\\nVote For This Book\\n\\n\\n   score: 1,741, and 19 people voted\\nWant to Read\\nRate this book\\n1 of 5 stars\\n2 of 5 stars\\n3 of 5 stars\\n4 of 5 stars\\n5 of 5 stars\\n71\\nToo Much and Never Enough: How My Family Created the World\\'s Most Dangerous Man\\nby Mary L. Trump\\n3.82 avg rating — 91,424 ratings\\nVote For This Book\\n\\n\\n   score: 1,717, and 18 people voted\\nWant to Read\\nRate this book\\n1 of 5 stars\\n2 of 5 stars\\n3 of 5 stars\\n4 of 5 stars\\n5 of 5 stars\\n72\\nHeartstopper: Volume Three (Heartstopper, #3)\\nby Alice Oseman (Goodreads Author)\\n4.56 avg rating — 465,589 ratings\\nVote For This Book\\n\\n\\n   score: 1,715, and 18 people voted\\nWant to Read\\nRate this book\\n1 of 5 stars\\n2 of 5 stars\\n3 of 5 stars\\n4 of 5 stars\\n5 of 5 stars\\n73\\nYou Deserve Each Other\\nby Sarah Hogle\\n3.90 avg rating — 120,369 ratings\\nVote For This Book\\n\\n\\n   score: 1,661, and 18 people voted\\nWant to Read\\nRate this book\\n1 of 5 stars\\n2 of 5 stars\\n3 of 5 stars\\n4 of 5 stars\\n5 of 5 stars\\n74\\nDear Ava\\nby Ilsa Madden-Mills (Goodreads Author)\\n4.11 avg rating — 52,759 ratings\\nVote For This Book\\n\\n\\n   score: 1,622, and 17 people voted\\nWant to Read\\nRate this book\\n1 of 5 stars\\n2 of 5 stars\\n3 of 5 stars\\n4 of 5 stars\\n5 of 5 stars\\n75\\nTake a Hint, Dani Brown (The Brown Sisters, #2)\\nby Talia Hibbert (Goodreads Author)\\n4.01 avg rating — 104,667 ratings\\nVote For This Book\\n\\n\\n   score: 1,620, and 18 people voted\\nWant to Read\\nRate this book\\n1 of 5 stars\\n2 of 5 stars\\n3 of 5 stars\\n4 of 5 stars\\n5 of 5 stars\\n76\\nA Good Neighborhood\\nby Therese Anne Fowler (Goodreads Author)\\n3.81 avg rating — 56,374 ratings\\nVote For This Book\\n\\n\\n   score: 1,616, and 17 people voted\\nWant to Read\\nRate this book\\n1 of 5 stars\\n2 of 5 stars\\n3 of 5 stars\\n4 of 5 stars\\n5 of 5 stars\\n77\\nThe Mirror & the Light (Thomas Cromwell, #3)\\nby Hilary Mantel\\n4.40 avg rating — 41,855 ratings\\nVote For This Book\\n\\n\\n   score: 1,609, and 17 people voted\\nWant to Read\\nRate this book\\n1 of 5 stars\\n2 of 5 stars\\n3 of 5 stars\\n4 of 5 stars\\n5 of 5 stars\\n78\\nThe Mountains Sing\\nby Nguyễn Phan Quế Mai (Goodreads Author)\\n4.32 avg rating — 50,808 ratings\\nVote For This Book\\n\\n\\n   score: 1,589, and 17 people voted\\nWant to Read\\nRate this book\\n1 of 5 stars\\n2 of 5 stars\\n3 of 5 stars\\n4 of 5 stars\\n5 of 5 stars\\n79\\nThe Inheritance Games (The Inheritance Games, #1)\\nby Jennifer Lynn Barnes (Goodreads Author)\\n4.15 avg rating — 861,906 ratings\\nVote For This Book\\n\\n\\n   score: 1,563, and 17 people voted\\nWant to Read\\nRate this book\\n1 of 5 stars\\n2 of 5 stars\\n3 of 5 stars\\n4 of 5 stars\\n5 of 5 stars\\n80\\nHate (Madison Kate, #1)\\nby Tate James (Goodreads Author)\\n4.20 avg rating — 55,910 ratings\\nVote For This Book\\n\\n\\n   score: 1,539, and 16 people voted\\nWant to Read\\nRate this book\\n1 of 5 stars\\n2 of 5 stars\\n3 of 5 stars\\n4 of 5 stars\\n5 of 5 stars\\n81\\nUndercover Bromance (Bromance Book Club, #2)\\nby Lyssa Kay Adams (Goodreads Author)\\n3.87 avg rating — 57,861 ratings\\nVote For This Book\\n\\n\\n   score: 1,534, and 16 people voted\\nWant to Read\\nRate this book\\n1 of 5 stars\\n2 of 5 stars\\n3 of 5 stars\\n4 of 5 stars\\n5 of 5 stars\\n82\\nFake (Madison Kate, #3)\\nby Tate James (Goodreads Author)\\n4.36 avg rating — 44,807 ratings\\nVote For This Book\\n\\n\\n   score: 1,514, and 16 people voted\\nWant to Read\\nRate this book\\n1 of 5 stars\\n2 of 5 stars\\n3 of 5 stars\\n4 of 5 stars\\n5 of 5 stars\\n83\\nFake It \\'Til You Break It\\nby Meagan Brandy (Goodreads Author)\\n4.10 avg rating — 29,419 ratings\\nVote For This Book\\n\\n\\n   score: 1,512, and 16 people voted\\nWant to Read\\nRate this book\\n1 of 5 stars\\n2 of 5 stars\\n3 of 5 stars\\n4 of 5 stars\\n5 of 5 stars\\n84\\nOne to Watch\\nby Kate Stayman-London (Goodreads Author)\\n3.88 avg rating — 95,408 ratings\\nVote For This Book\\n\\n\\n   score: 1,508, and 17 people voted\\nWant to Read\\nRate this book\\n1 of 5 stars\\n2 of 5 stars\\n3 of 5 stars\\n4 of 5 stars\\n5 of 5 stars\\n85\\nDon\\'t Close Your Eyes\\nby Lynessa James (Goodreads Author)\\n3.76 avg rating — 600 ratings\\nVote For This Book\\n\\n\\n   score: 1,499, and 15 people voted\\nWant to Read\\nRate this book\\n1 of 5 stars\\n2 of 5 stars\\n3 of 5 stars\\n4 of 5 stars\\n5 of 5 stars\\n86\\nLiar (Madison Kate, #2)\\nby Tate James (Goodreads Author)\\n4.35 avg rating — 48,047 ratings\\nVote For This Book\\n\\n\\n   score: 1,490, and 16 people voted\\nWant to Read\\nRate this book\\n1 of 5 stars\\n2 of 5 stars\\n3 of 5 stars\\n4 of 5 stars\\n5 of 5 stars\\n87\\nThe Happy Ever After Playlist (The Friend Zone, #2)\\nby Abby Jimenez (Goodreads Author)\\n4.18 avg rating — 214,526 ratings\\nVote For This Book\\n\\n\\n   score: 1,473, and 16 people voted\\nWant to Read\\nRate this book\\n1 of 5 stars\\n2 of 5 stars\\n3 of 5 stars\\n4 of 5 stars\\n5 of 5 stars\\n88\\nThe Other Mrs.\\nby Mary Kubica (Goodreads Author)\\n3.75 avg rating — 132,678 ratings\\nVote For This Book\\n\\n\\n   score: 1,431, and 15 people voted\\nWant to Read\\nRate this book\\n1 of 5 stars\\n2 of 5 stars\\n3 of 5 stars\\n4 of 5 stars\\n5 of 5 stars\\n89\\nThe Book of Lost Friends\\nby Lisa Wingate (Goodreads Author)\\n4.15 avg rating — 108,231 ratings\\nVote For This Book\\n\\n\\n   score: 1,428, and 15 people voted\\nWant to Read\\nRate this book\\n1 of 5 stars\\n2 of 5 stars\\n3 of 5 stars\\n4 of 5 stars\\n5 of 5 stars\\n90\\nBrontë’s Mistress\\nby Finola Austin (Goodreads Author)\\n3.60 avg rating — 1,105 ratings\\nVote For This Book\\n\\n\\n   score: 1,378, and 14 people voted\\nWant to Read\\nRate this book\\n1 of 5 stars\\n2 of 5 stars\\n3 of 5 stars\\n4 of 5 stars\\n5 of 5 stars\\n91\\nOne by One\\nby Ruth Ware (Goodreads Author)\\n3.73 avg rating — 200,781 ratings\\nVote For This Book\\n\\n\\n   score: 1,366, and 15 people voted\\nWant to Read\\nRate this book\\n1 of 5 stars\\n2 of 5 stars\\n3 of 5 stars\\n4 of 5 stars\\n5 of 5 stars\\n92\\nThe Last Flight\\nby Julie Clark (Goodreads Author)\\n4.10 avg rating — 235,332 ratings\\nVote For This Book\\n\\n\\n   score: 1,295, and 14 people voted\\nWant to Read\\nRate this book\\n1 of 5 stars\\n2 of 5 stars\\n3 of 5 stars\\n4 of 5 stars\\n5 of 5 stars\\n93\\nComplicated Moonlight (DCYE, #2)\\nby Lynessa Layne (Goodreads Author)\\n4.36 avg rating — 304 ratings\\nVote For This Book\\n\\n\\n   score: 1,288, and 13 people voted\\nWant to Read\\nRate this book\\n1 of 5 stars\\n2 of 5 stars\\n3 of 5 stars\\n4 of 5 stars\\n5 of 5 stars\\n94\\nThe Present (VanWest, #2)\\nby Kenneth Thomas\\n3.65 avg rating — 2,305 ratings\\nVote For This Book\\n\\n\\n   score: 1,284, and 13 people voted\\nWant to Read\\nRate this book\\n1 of 5 stars\\n2 of 5 stars\\n3 of 5 stars\\n4 of 5 stars\\n5 of 5 stars\\n95\\nThe Death of Vivek Oji\\nby Akwaeke Emezi (Goodreads Author)\\n4.13 avg rating — 63,423 ratings\\nVote For This Book\\n\\n\\n   score: 1,266, and 14 people voted\\nWant to Read\\nRate this book\\n1 of 5 stars\\n2 of 5 stars\\n3 of 5 stars\\n4 of 5 stars\\n5 of 5 stars\\n96\\nWeather\\nby Jenny Offill (Goodreads Author)\\n3.55 avg rating — 37,658 ratings\\nVote For This Book\\n\\n\\n   score: 1,235, and 13 people voted\\nWant to Read\\nRate this book\\n1 of 5 stars\\n2 of 5 stars\\n3 of 5 stars\\n4 of 5 stars\\n5 of 5 stars\\n96\\nLittle Secrets\\nby Jennifer Hillier (Goodreads Author)\\n4.22 avg rating — 161,843 ratings\\nVote For This Book\\n\\n\\n   score: 1,235, and 13 people voted\\nWant to Read\\nRate this book\\n1 of 5 stars\\n2 of 5 stars\\n3 of 5 stars\\n4 of 5 stars\\n5 of 5 stars\\n98\\nBe My Brayshaw (Brayshaw, #4)\\nby Meagan Brandy (Goodreads Author)\\n4.30 avg rating — 13,263 ratings\\nVote For This Book\\n\\n\\n   score: 1,207, and 13 people voted\\nWant to Read\\nRate this book\\n1 of 5 stars\\n2 of 5 stars\\n3 of 5 stars\\n4 of 5 stars\\n5 of 5 stars\\n99\\nThe Honey-Don\\'t List\\nby Christina Lauren (Goodreads Author)\\n3.50 avg rating — 74,762 ratings\\nVote For This Book\\n\\n\\n   score: 1,201, and 14 people voted\\nWant to Read\\nRate this book\\n1 of 5 stars\\n2 of 5 stars\\n3 of 5 stars\\n4 of 5 stars\\n5 of 5 stars\\n100\\nThe Past (VanWest, #1)\\nby Kenneth Thomas\\n3.93 avg rating — 802 ratings\\nVote For This Book\\n\\n\\n   score: 1,191, and 12 people voted\\nWant to Read\\nRate this book\\n1 of 5 stars\\n2 of 5 stars\\n3 of 5 stars\\n4 of 5 stars\\n5 of 5 stars\\n← previous 1 2 3 4 5 6 7 8 9 … 15 16 next →\\n1,541 books · 2,083 voters · list created January 7th, 2020 by deleted user.\\nTags: 2020, best-by-year, by-year\\n148 likes · Like\\nLists are re-scored approximately every 5 minutes.\\n\\n\\nPEOPLE WHO VOTED ON THIS LIST (2083)\\nDonna 4423 books\\n519 friends\\nErica 3744 books\\n35 friends\\nJanet 4561 books\\n47 friends\\nKitty 11108 books\\n31 friends\\nWilliam 1011 books\\n1 friend\\nKaitlin 2789 books\\n140 friends\\nDebbi 3164 books\\n217 friends\\nAnja 2415 books\\n21 friends\\n\\nMore voters…\\n\\n\\n\\nPost a comment »\\nCOMMENTS Showing 1-33 of 33\\ndate    newest »\\n\\nmessage 1: by Donna\\nApr 29, 2020 10:37PM\\n\\nThe system found and removed 9 duplicates.\\n\\nreply | flag\\n\\nmessage 2: by Donna\\nMay 26, 2020 12:27AM\\n\\nThe system found and removed 6 duplicates.\\n\\nreply | flag\\n\\nmessage 3: by Utopicdrow\\nJul 18, 2020 11:55PM\\n\\nI can\\'t add certain books published this year? Weird.\\n\\nreply | flag\\n\\nmessage 4: by BookLovingLady (deceased Jan. 25, 2023...)\\nJul 19, 2020 12:19AM\\n\\nUtopicdrow wrote: \"I can\\'t add certain books published this year? Weird.\"\\n\\nIt might be because the original publiction year is not filled in.\\n\\nreply | flag\\n\\nmessage 5: by Utopicdrow\\nJul 19, 2020 01:28AM\\n\\nBooklovinglady wrote: \"Utopicdrow wrote: \"I can\\'t add certain books published this year? Weird.\"\\n\\nIt might be because the original publiction year is not filled in.\"\\n\\nOh okay, I\\'ll dm the authors, maybe they\\'ll add it.\\n\\nreply | flag\\n\\nmessage 6: by Reader\\nAug 12, 2020 02:23AM\\n\\nIt won\\'t let me add the book I wanted to add either. It says \"not published this year\", but it was published this year. Something is wrong.\\n\\nreply | flag\\n\\nmessage 7: by BookLovingLady (deceased Jan. 25, 2023...) (last edited Aug 12, 2020 07:00AM)\\nAug 12, 2020 04:01AM\\n\\nReader wrote: \"It won\\'t let me add the book I wanted to add either. It says \"not published this year\", but it was published this year. Something is wrong.\"\\n\\nIt might be that the original publication date is not filled in...\\n\\nreply | flag\\n\\nmessage 8: by Andrew\\nAug 26, 2020 12:15PM\\n\\nHey! Hope you\\'re well. A reader of mine flagged that they had voted for my book (Before and After) and that it was at the top of the list but they then reported that the book had gone missing from the list. Any idea why it might have been taken off?\\n\\nreply | flag\\n\\nmessage 9: by BookLovingLady (deceased Jan. 25, 2023...)\\nAug 29, 2020 12:40AM\\n\\nAndrew wrote: \"Hey! Hope you\\'re well. A reader of mine flagged that they had voted for my book (Before and After) and that it was at the top of the list but they then reported that the book had gone missing from ...\"\\n\\nCan\\'t the reader who flagged it replace it?\\n\\nreply | flag\\n\\nmessage 10: by Donna\\nAug 29, 2020 12:51AM\\n\\nBooklovinglady wrote: \"Andrew wrote: \"Hey! Hope you\\'re well. A reader of mine flagged that they had voted for my book (Before and After) and that it was at the top of the list but they then reported that the book had gon...\"\\n\\nPretty sure there\\'s no way to reinstall the votes, unless a GR employee has the inclination and ability.\\n\\nreply | flag\\n\\nmessage 11: by Andrew\\nAug 29, 2020 01:08AM\\n\\nBooklovinglady wrote: \"Andrew wrote: \"Hey! Hope you\\'re well. A reader of mine flagged that they had voted for my book (Before and After) and that it was at the top of the list but they then reported that the book had gon...\"\\n\\nThanks for the reply, I guess they could but I still don\\'t know why it was taken off. So possibly, it runs the risk of them adding it back on, only for it to be removed again. I\\'m fine if it\\'s a genre / cover / publisher issue, I\\'d just like to know so I can let readers know. I\\'ll ask if they can add it and see if it disappears again.\\n\\nreply | flag\\n\\nmessage 12: by Andrew\\nAug 29, 2020 01:10AM\\n\\nDonna wrote: \"Booklovinglady wrote: \"Andrew wrote: \"Hey! Hope you\\'re well. A reader of mine flagged that they had voted for my book (Before and After) and that it was at the top of the list but they then reporte...\"\\n\\nYes, I suspected it might need to be a GR employee but it doesn\\'t let me know why it was taken off. Oh well, it\\'s a nice sunny Saturday and there\\'s probably more valuable things I could waste my time on! Thanks for the answer.\\n\\nreply | flag\\n\\nmessage 13: by BookLovingLady (deceased Jan. 25, 2023...)\\nAug 30, 2020 02:40AM\\n\\nAndrew wrote: \"Yes, I suspected it might need to be a GR employee but it doesn\\'t let me know why it was taken off. Oh well, it\\'s a nice sunny Saturday and there\\'s probably more valuable things I could waste my time on! Thanks for the answer....\"\\n\\nIt might have been taken off by mistake. After all, librarians are also people :-)\\n\\nreply | flag\\n\\nmessage 14: by Andrew\\nAug 30, 2020 04:55AM\\n\\nBooklovinglady wrote: \"Andrew wrote: \"Yes, I suspected it might need to be a GR employee but it doesn\\'t let me know why it was taken off. Oh well, it\\'s a nice sunny Saturday and there\\'s probably more valuable things I co...\"\\n\\nHaha! I refuse to believe it. Librarians are infallible.\\n\\nreply | flag\\n\\nmessage 15: by Rosie\\nSep 09, 2020 01:25AM\\n\\nvote for 570,571,572,573,574\\n\\nreply | flag\\n\\nmessage 16: by Donna\\nSep 10, 2020 12:55AM\\n\\nRosie wrote: \"vote for 570,571,572,573,574\"\\n\\nIf you want to vote for these, you have to do it yourself by tapping the button under each one that says, \"Vote for this book.\"\\n\\nreply | flag\\n\\nmessage 17: by Deborah\\nSep 13, 2020 08:44AM\\n\\nProvide a link to books first published this year that can\\'t be added and I will fix them for you.\\n\\nreply | flag\\n\\nmessage 18: by Deborah\\nSep 13, 2020 08:47AM\\n\\nAndrew wrote: \"Hey! Hope you\\'re well. A reader of mine flagged that they had voted for my book (Before and After) and that it was at the top of the list but they then reported that the book had gone missing from ...\"\\n\\nI see no reason it should have been removed. It is back on the list now, but with only one vote.\\n\\nreply | flag\\n\\nmessage 19: by Andrew\\nSep 13, 2020 10:57AM\\n\\nDeborah wrote: \"Andrew wrote: \"Hey! Hope you\\'re well. A reader of mine flagged that they had voted for my book (Before and After) and that it was at the top of the list but they then reported that the book had gon...\"\\n\\nThanks Deborah. It\\'s a mystery, it seems for some reason a GR employee removed the votes it had. My book is still on other lists, so it seems this was the only one it was purged from. Bit weird!\\n\\nreply | flag\\n\\nmessage 20: by Deborah\\nSep 13, 2020 02:12PM\\n\\nAndrew wrote: \"Deborah wrote: \"Andrew wrote: \"Hey! Hope you\\'re well. A reader of mine flagged that they had voted for my book (Before and After) and that it was at the top of the list but they then reported that ...\"\\n\\nNo, it was a librarian, she deleted two books, I hope it was a mistake, I don\\'t think it would do any good to flag it, it was 4 weeks ago and the other book has more than 10 votes now. Please let your fans know they can vote for it now.\\n\\nreply | flag\\n\\nmessage 21: by Rosalie\\nSep 22, 2020 03:36PM\\n\\nI added a book that was already on the list. I don\\'t know how to delete it\\n\\nreply | flag\\n\\nmessage 22: by Deborah\\nSep 22, 2020 04:12PM\\n\\nRosalie wrote: \"I added a book that was already on the list. I don\\'t know how to delete it\"\\n\\nYou can always remove your own votes, but don\\'t worry, I\\'ll run check for duplicates.\\n\\nreply | flag\\n\\nmessage 23: by Joy\\nOct 29, 2020 09:31PM\\n\\nExodus\\n\\nreply | flag\\n\\nmessage 24: by Joy\\nOct 29, 2020 09:32PM\\n\\nFlock\\n\\nreply | flag\\n\\nmessage 25: by Donna\\nOct 30, 2020 09:53PM\\n\\nJoy wrote: \"Flock\"\\nJoy, if you want to vote for these books, you have to add them yourself. Use the tab at the top of the list.\\n\\nreply | flag\\n\\nmessage 26: by Reader\\nNov 05, 2020 11:25AM\\n\\nIt won\\'t let me add the book I want to add. It says it wasn\\'t published this year, but it was.\\n\\nreply | flag\\n\\nmessage 27: by Deborah\\nNov 05, 2020 12:37PM\\n\\nReader wrote: \"It won\\'t let me add the book I want to add. It says it wasn\\'t published this year, but it was.\"\\n\\nWhat book? Provide a link and I might be able to fix it. The list goes by the original published date, but that field is blank for lots of books.\\n\\nreply | flag\\n\\nmessage 28: by Reader\\nNov 05, 2020 04:59PM\\n\\nhttps://www.goodreads.com/book/show/5...\\n\\nThank you. The publication date is listed as April, but the book was delayed and didn\\'t come out until August. But it was still released in 2020.\\n\\nreply | flag\\n\\nmessage 29: by Deborah\\nNov 05, 2020 06:36PM\\n\\nReader wrote: \"https://www.goodreads.com/book/show/5...\\n\\nThank you. The publication date is listed as April, but the book was delayed and didn\\'t come out until August. But it w...\"\\n\\nFixed.\\n\\nreply | flag\\n\\nmessage 30: by Reader\\nNov 05, 2020 11:31PM\\n\\n@Deborah Thanks a lot.\\n\\nreply | flag\\n\\nmessage 31: by Naomi\\nSep 06, 2022 10:51PM\\n\\nRemoved ماهر دعبول for spam.\\n\\nreply | flag\\n\\nmessage 32: by Naomi\\nOct 27, 2024 06:21PM\\n\\n3 duplicates found and removed\\n\\nreply | flag\\n\\nmessage 33: by Donna\\nOct 27, 2024 09:36PM\\n\\nNaomi wrote: \"Removed ماهر دعبول for spam.\"\\n\\nThank you, Naomi.\\n\\nreply | flag\\n\\nback to top\\nNotify me when people comment\\n\\n\\ncomment\\nadd book/author       (some html is ok)\\n\\n   (preview)']"
      ]
     },
     "execution_count": 24,
     "metadata": {},
     "output_type": "execute_result"
    }
   ],
   "source": [
    "books = driver.find_elements('xpath', '//*[contains(@id,\"all_votes\")]')\n",
    "best_books = []\n",
    "for book in books:\n",
    "    best_books.append(book.text)\n",
    "best_books"
   ]
  },
  {
   "cell_type": "code",
   "execution_count": null,
   "id": "d1f2c06f-64ef-42d7-b7b4-5318b92c4d4c",
   "metadata": {},
   "outputs": [],
   "source": []
  }
 ],
 "metadata": {
  "kernelspec": {
   "display_name": "Python 3 (ipykernel)",
   "language": "python",
   "name": "python3"
  },
  "language_info": {
   "codemirror_mode": {
    "name": "ipython",
    "version": 3
   },
   "file_extension": ".py",
   "mimetype": "text/x-python",
   "name": "python",
   "nbconvert_exporter": "python",
   "pygments_lexer": "ipython3",
   "version": "3.12.4"
  }
 },
 "nbformat": 4,
 "nbformat_minor": 5
}
